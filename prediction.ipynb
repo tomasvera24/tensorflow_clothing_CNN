{
 "cells": [
  {
   "cell_type": "code",
   "execution_count": 1,
   "metadata": {},
   "outputs": [],
   "source": [
    "import pandas as pd\n",
    "import numpy as np\n",
    "import os\n",
    "from PIL import Image\n",
    "\n",
    "import tensorflow as tf\n",
    "from tensorflow.keras import datasets, layers, models\n",
    "\n",
    "import numpy as np\n",
    "import matplotlib.pyplot as plt\n"
   ]
  },
  {
   "cell_type": "code",
   "execution_count": 2,
   "metadata": {},
   "outputs": [],
   "source": [
    "training_folder = \"./hw4_train\"\n",
    "test_folder = \"hw4_test\"\n",
    "\n",
    "def create_dataset(train_folder, test_folder):\n",
    "   \n",
    "    train_images=[]\n",
    "    train_labels=[]\n",
    "    test_images=[]\n",
    "   \n",
    "    for label_folder in os.listdir(train_folder):\n",
    "        for img_file in os.listdir(os.path.join(train_folder, label_folder)):\n",
    "       \n",
    "            image_path= os.path.join(train_folder, label_folder,  img_file)\n",
    "\n",
    "            image= Image.open(image_path).getdata()\n",
    "            image=np.array(image).reshape(28, 28)\n",
    "            train_images.append(image)\n",
    "            train_labels.append(int(label_folder))\n",
    "    \n",
    "    train_images = np.array(train_images)\n",
    "    train_labels = np.array(train_labels)\n",
    "\n",
    "    for i in range(10000):\n",
    "        test_image_path= os.path.join(test_folder, str(i)+\".png\")\n",
    "\n",
    "        test_image = Image.open(test_image_path).getdata()\n",
    "        test_image = np.array(test_image).reshape(28, 28)\n",
    "        test_images.append(test_image)\n",
    "    \n",
    "    test_images = np.array(test_images)\n",
    "\n",
    "    return train_images, train_labels, test_images\n",
    "\n",
    "train_images, train_labels, test_images =create_dataset(training_folder, test_folder)"
   ]
  },
  {
   "cell_type": "code",
   "execution_count": 3,
   "metadata": {},
   "outputs": [
    {
     "data": {
      "text/plain": [
       "(10000, 28, 28)"
      ]
     },
     "execution_count": 3,
     "metadata": {},
     "output_type": "execute_result"
    }
   ],
   "source": [
    "test_images.shape"
   ]
  },
  {
   "cell_type": "code",
   "execution_count": 4,
   "metadata": {},
   "outputs": [],
   "source": [
    "train_images = train_images / 255.0\n",
    "test_images = test_images / 255.0"
   ]
  },
  {
   "cell_type": "code",
   "execution_count": 5,
   "metadata": {},
   "outputs": [
    {
     "name": "stderr",
     "output_type": "stream",
     "text": [
      "2022-06-01 15:12:05.173967: I tensorflow/core/platform/cpu_feature_guard.cc:193] This TensorFlow binary is optimized with oneAPI Deep Neural Network Library (oneDNN) to use the following CPU instructions in performance-critical operations:  AVX2 FMA\n",
      "To enable them in other operations, rebuild TensorFlow with the appropriate compiler flags.\n"
     ]
    }
   ],
   "source": [
    "model = models.Sequential()\n",
    "model.add(layers.Conv2D(32, (3, 3), activation='relu', input_shape=(28, 28,1)))\n",
    "model.add(layers.MaxPooling2D((2, 2)))\n",
    "model.add(layers.Conv2D(64, (3, 3), activation='relu'))\n",
    "model.add(layers.MaxPooling2D((2, 2)))\n",
    "model.add(layers.Conv2D(64, (3, 3), activation='relu'))\n",
    "model.add(layers.Flatten())\n",
    "model.add(layers.Dense(64, activation='relu'))\n",
    "model.add(layers.Dense(10))"
   ]
  },
  {
   "cell_type": "code",
   "execution_count": 6,
   "metadata": {},
   "outputs": [],
   "source": [
    "model.compile(optimizer='adam',\n",
    "              loss=tf.keras.losses.SparseCategoricalCrossentropy(from_logits=True),\n",
    "              metrics=['accuracy'])"
   ]
  },
  {
   "cell_type": "code",
   "execution_count": 7,
   "metadata": {},
   "outputs": [
    {
     "name": "stdout",
     "output_type": "stream",
     "text": [
      "Epoch 1/20\n",
      "1008/1008 [==============================] - 28s 27ms/step - loss: 0.5695 - accuracy: 0.7917\n",
      "Epoch 2/20\n",
      "1008/1008 [==============================] - 28s 28ms/step - loss: 0.3556 - accuracy: 0.8712\n",
      "Epoch 3/20\n",
      "1008/1008 [==============================] - 29s 28ms/step - loss: 0.2975 - accuracy: 0.8930\n",
      "Epoch 4/20\n",
      "1008/1008 [==============================] - 29s 29ms/step - loss: 0.2597 - accuracy: 0.9050\n",
      "Epoch 5/20\n",
      "1008/1008 [==============================] - 30s 29ms/step - loss: 0.2294 - accuracy: 0.9162\n",
      "Epoch 6/20\n",
      "1008/1008 [==============================] - 30s 30ms/step - loss: 0.2061 - accuracy: 0.9240\n",
      "Epoch 7/20\n",
      "1008/1008 [==============================] - 30s 30ms/step - loss: 0.1824 - accuracy: 0.9321\n",
      "Epoch 8/20\n",
      "1008/1008 [==============================] - 30s 30ms/step - loss: 0.1633 - accuracy: 0.9405\n",
      "Epoch 9/20\n",
      "1008/1008 [==============================] - 30s 30ms/step - loss: 0.1455 - accuracy: 0.9461\n",
      "Epoch 10/20\n",
      "1008/1008 [==============================] - 30s 30ms/step - loss: 0.1284 - accuracy: 0.9515\n",
      "Epoch 11/20\n",
      "1008/1008 [==============================] - 31s 30ms/step - loss: 0.1124 - accuracy: 0.9583\n",
      "Epoch 12/20\n",
      "1008/1008 [==============================] - 31s 30ms/step - loss: 0.1017 - accuracy: 0.9628\n",
      "Epoch 13/20\n",
      "1008/1008 [==============================] - 30s 30ms/step - loss: 0.0889 - accuracy: 0.9664\n",
      "Epoch 14/20\n",
      "1008/1008 [==============================] - 30s 30ms/step - loss: 0.0755 - accuracy: 0.9709\n",
      "Epoch 15/20\n",
      "1008/1008 [==============================] - 31s 30ms/step - loss: 0.0712 - accuracy: 0.9730\n",
      "Epoch 16/20\n",
      "1008/1008 [==============================] - 31s 30ms/step - loss: 0.0598 - accuracy: 0.9775\n",
      "Epoch 17/20\n",
      "1008/1008 [==============================] - 31s 30ms/step - loss: 0.0534 - accuracy: 0.9804\n",
      "Epoch 18/20\n",
      "1008/1008 [==============================] - 31s 30ms/step - loss: 0.0502 - accuracy: 0.9811\n",
      "Epoch 19/20\n",
      "1008/1008 [==============================] - 31s 30ms/step - loss: 0.0481 - accuracy: 0.9827\n",
      "Epoch 20/20\n",
      "1008/1008 [==============================] - 31s 31ms/step - loss: 0.0442 - accuracy: 0.9841\n"
     ]
    },
    {
     "data": {
      "text/plain": [
       "<keras.callbacks.History at 0x1050ebf10>"
      ]
     },
     "execution_count": 7,
     "metadata": {},
     "output_type": "execute_result"
    }
   ],
   "source": [
    "model.fit(train_images, train_labels, batch_size=50, epochs=20)"
   ]
  },
  {
   "cell_type": "code",
   "execution_count": 8,
   "metadata": {},
   "outputs": [],
   "source": [
    "probability_model = tf.keras.Sequential([model, tf.keras.layers.Softmax()])"
   ]
  },
  {
   "cell_type": "code",
   "execution_count": 9,
   "metadata": {},
   "outputs": [
    {
     "name": "stdout",
     "output_type": "stream",
     "text": [
      "313/313 [==============================] - 1s 4ms/step\n"
     ]
    }
   ],
   "source": [
    "predictions = probability_model.predict(test_images)"
   ]
  },
  {
   "cell_type": "code",
   "execution_count": 10,
   "metadata": {},
   "outputs": [],
   "source": [
    "with open('prediction.txt', 'w') as f:\n",
    "    for i in range(10000):\n",
    "        f.write(str(np.argmax(predictions[i])))\n",
    "        f.write('\\n')\n"
   ]
  },
  {
   "cell_type": "code",
   "execution_count": 11,
   "metadata": {},
   "outputs": [],
   "source": [
    "model.save('model1.h5')"
   ]
  },
  {
   "cell_type": "code",
   "execution_count": null,
   "metadata": {},
   "outputs": [],
   "source": []
  },
  {
   "cell_type": "code",
   "execution_count": null,
   "metadata": {},
   "outputs": [],
   "source": []
  }
 ],
 "metadata": {
  "interpreter": {
   "hash": "aee8b7b246df8f9039afb4144a1f6fd8d2ca17a180786b69acc140d282b71a49"
  },
  "kernelspec": {
   "display_name": "Python 3.9.10 64-bit",
   "language": "python",
   "name": "python3"
  },
  "language_info": {
   "codemirror_mode": {
    "name": "ipython",
    "version": 3
   },
   "file_extension": ".py",
   "mimetype": "text/x-python",
   "name": "python",
   "nbconvert_exporter": "python",
   "pygments_lexer": "ipython3",
   "version": "3.9.10"
  },
  "orig_nbformat": 4
 },
 "nbformat": 4,
 "nbformat_minor": 2
}
